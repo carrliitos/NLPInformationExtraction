{
 "cells": [
  {
   "cell_type": "code",
   "execution_count": 1,
   "metadata": {},
   "outputs": [],
   "source": [
    "import spacy"
   ]
  },
  {
   "cell_type": "code",
   "execution_count": 2,
   "metadata": {},
   "outputs": [],
   "source": [
    "nlp = spacy.load(\"UWW_NER_TRAUMA\")"
   ]
  },
  {
   "cell_type": "code",
   "execution_count": 3,
   "metadata": {},
   "outputs": [],
   "source": [
    "doc = nlp(\"Tris Stremmel had an open cholecystectomy with intraoperative cholangiogram that was performed on a\" \\\n",
    "         \"thick, distended and grossly-discolored gallbladder consistent with hemorrhage into the gallbladder \"\\\n",
    "         \"lumen\")"
   ]
  },
  {
   "cell_type": "code",
   "execution_count": 4,
   "metadata": {},
   "outputs": [
    {
     "name": "stdout",
     "output_type": "stream",
     "text": [
      "Entities in \n",
      "'Tris Stremmel had an open cholecystectomy with intraoperative cholangiogram that was performed on athick, distended and grossly-discolored gallbladder consistent with hemorrhage into the gallbladder lumen'\n",
      "\n",
      "B-SurgicalProcedure cholecystectomy\n",
      "B-IM cholangiogram\n",
      "B-PI distended\n",
      "B-PI hemorrhage\n"
     ]
    }
   ],
   "source": [
    "print(\"Entities in \\n'%s'\\n\" % doc)\n",
    "for ent in doc.ents:\n",
    "    print(ent.label_, ent.text)"
   ]
  },
  {
   "cell_type": "code",
   "execution_count": null,
   "metadata": {},
   "outputs": [],
   "source": []
  }
 ],
 "metadata": {
  "kernelspec": {
   "display_name": "Python 3",
   "language": "python",
   "name": "python3"
  },
  "language_info": {
   "codemirror_mode": {
    "name": "ipython",
    "version": 3
   },
   "file_extension": ".py",
   "mimetype": "text/x-python",
   "name": "python",
   "nbconvert_exporter": "python",
   "pygments_lexer": "ipython3",
   "version": "3.8.5"
  }
 },
 "nbformat": 4,
 "nbformat_minor": 4
}
